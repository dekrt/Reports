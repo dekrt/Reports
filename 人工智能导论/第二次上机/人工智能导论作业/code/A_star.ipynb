{
 "cells": [
  {
   "cell_type": "code",
   "execution_count": 21,
   "outputs": [],
   "source": [
    "import heapq\n",
    "import math\n",
    "import numpy as np\n",
    "import matplotlib.pyplot as plt\n",
    "from typing import List, Tuple, Optional"
   ],
   "metadata": {
    "collapsed": false,
    "ExecuteTime": {
     "end_time": "2023-10-11T11:06:45.695413772Z",
     "start_time": "2023-10-11T11:06:45.644259330Z"
    }
   },
   "id": "c639f3a4dd22a99a"
  },
  {
   "cell_type": "code",
   "execution_count": 22,
   "outputs": [],
   "source": [
    "# 定义节点类，用于存储迷宫中每个点的信息\n",
    "class Node:\n",
    "    def __init__(self, x: int, y: int, g: float = 0, h: float = 0, parent=None):\n",
    "        self.x = x  # x坐标\n",
    "        self.y = y  # y坐标\n",
    "        self.g = g  # g值：从起点到当前节点的代价\n",
    "        self.h = h  # h值：启发式估算的当前节点到终点的代价\n",
    "        self.parent = parent  # 父节点\n",
    "        self.f = g + h  # f值：g值 + h值\n",
    "\n",
    "    def __lt__(self, other):\n",
    "        return self.f < other.f  # 对节点进行比较，依据f值"
   ],
   "metadata": {
    "collapsed": false,
    "ExecuteTime": {
     "end_time": "2023-10-11T11:06:45.699873411Z",
     "start_time": "2023-10-11T11:06:45.685353215Z"
    }
   },
   "id": "13bb119711d95cc4"
  },
  {
   "cell_type": "code",
   "execution_count": 23,
   "outputs": [],
   "source": [
    "# 启发式函数：使用欧几里得距离\n",
    "def heuristic(a: Node, b: Node) -> float:\n",
    "    return math.sqrt((a.x - b.x) ** 2 + (a.y - b.y) ** 2)"
   ],
   "metadata": {
    "collapsed": false,
    "ExecuteTime": {
     "end_time": "2023-10-11T11:06:45.700047477Z",
     "start_time": "2023-10-11T11:06:45.685517311Z"
    }
   },
   "id": "75eacd1ebf47577"
  },
  {
   "cell_type": "code",
   "execution_count": 24,
   "outputs": [],
   "source": [
    "# 获取节点的邻居（8个方向）\n",
    "def get_neighbors(node: Node, maze: List[List[int]]) -> List[Node]:\n",
    "    neighbors = []\n",
    "    rows = len(maze)\n",
    "    cols = len(maze[0])\n",
    "    directions = [(-1, 0), (1, 0), (0, -1), (0, 1), (-1, -1), (-1, 1), (1, -1), (1, 1)]\n",
    "\n",
    "    for dx, dy in directions:\n",
    "        nx, ny = node.x + dx, node.y + dy\n",
    "        if 0 <= nx < rows and 0 <= ny < cols and maze[nx][ny] == 0:\n",
    "            neighbors.append(Node(nx, ny))\n",
    "\n",
    "    return neighbors\n"
   ],
   "metadata": {
    "collapsed": false,
    "ExecuteTime": {
     "end_time": "2023-10-11T11:06:45.701428199Z",
     "start_time": "2023-10-11T11:06:45.685601173Z"
    }
   },
   "id": "2bb34797b4e1e43f"
  },
  {
   "cell_type": "code",
   "execution_count": 25,
   "outputs": [],
   "source": [
    "# 从终点回溯到起点，重构路径\n",
    "def reconstruct_path(current: Node) -> List[Tuple[int, int]]:\n",
    "    path = []\n",
    "    while current.parent is not None:\n",
    "        path.append((current.x, current.y))\n",
    "        current = current.parent\n",
    "    path.append((current.x, current.y))\n",
    "    # 返回正向的路径\n",
    "    return path[::-1]"
   ],
   "metadata": {
    "collapsed": false,
    "ExecuteTime": {
     "end_time": "2023-10-11T11:06:45.701585422Z",
     "start_time": "2023-10-11T11:06:45.685681628Z"
    }
   },
   "id": "286a59a6902ccac4"
  },
  {
   "cell_type": "code",
   "execution_count": 26,
   "outputs": [],
   "source": [
    "# A* 算法主体\n",
    "def astar_search(maze: List[List[int]], start: Tuple[int, int], end: Tuple[int, int]) -> Optional[\n",
    "    List[Tuple[int, int]]]:\n",
    "    start_node = Node(start[0], start[1])\n",
    "    end_node = Node(end[0], end[1])\n",
    "\n",
    "    open_list = []\n",
    "    heapq.heappush(open_list, start_node)  # 使用堆数据结构作为开启列表\n",
    "    closed_list = set()  # 使用集合作为关闭列表\n",
    "\n",
    "    while open_list:\n",
    "        # 每次取出cost最小的Node\n",
    "        current = heapq.heappop(open_list)\n",
    "\n",
    "        if (current.x, current.y) == (end_node.x, end_node.y):\n",
    "            return reconstruct_path(current)  # 找到路径，进行重构\n",
    "        # 否则进行A*搜索\n",
    "        closed_list.add((current.x, current.y))\n",
    "        # 对每一个邻居计算cost\n",
    "        for neighbor in get_neighbors(current, maze):\n",
    "            if (neighbor.x, neighbor.y) in closed_list:\n",
    "                continue\n",
    "\n",
    "            neighbor.g = current.g + heuristic(neighbor, current)\n",
    "            neighbor.h = heuristic(neighbor, end_node)\n",
    "            neighbor.f = neighbor.g + neighbor.h\n",
    "            neighbor.parent = current\n",
    "\n",
    "            if neighbor not in open_list:\n",
    "                heapq.heappush(open_list, neighbor)\n",
    "\n",
    "    return None  # 未找到路径"
   ],
   "metadata": {
    "collapsed": false,
    "ExecuteTime": {
     "end_time": "2023-10-11T11:06:45.701753055Z",
     "start_time": "2023-10-11T11:06:45.685771090Z"
    }
   },
   "id": "1f48ad6256789464"
  },
  {
   "cell_type": "code",
   "execution_count": 47,
   "outputs": [],
   "source": [
    "# 画出迷宫及路径的函数\n",
    "def draw_maze_and_path(maze, path, start, end):\n",
    "    maze_np = np.array(maze)\n",
    "    path_np = np.zeros_like(maze_np)\n",
    "\n",
    "    for x, y in path:\n",
    "        path_np[x, y] = 1\n",
    "\n",
    "    vis_arr = maze_np + path_np * 2\n",
    "\n",
    "    cmap = plt.cm.colors.ListedColormap(['black', 'red', 'white'])\n",
    "    bounds = [-0.5, 0.5, 1.5, 2.5]\n",
    "    norm = plt.cm.colors.BoundaryNorm(bounds, cmap.N)\n",
    "\n",
    "    fig, ax = plt.subplots(figsize=(8, 8))\n",
    "    ax.imshow(vis_arr, cmap=cmap, norm=norm, extent=[-0.5, 9.5, 9.5, -0.5])\n",
    "\n",
    "    plt.text(start[1], start[0], 'S', fontsize=16, ha='center', va='center', color='green', fontweight='bold')\n",
    "    plt.text(end[1], end[0], 'E', fontsize=16, ha='center', va='center', color='blue', fontweight='bold')\n",
    "\n",
    "    plt.title('A* Pathfinding Algorithm', fontsize=20, fontweight='bold')\n",
    "    plt.xlabel('X Coordinate', fontsize=14, fontweight='bold')\n",
    "    plt.ylabel('Y Coordinate', fontsize=14, fontweight='bold')\n",
    "\n",
    "    # cbar = plt.colorbar(ax.get_images()[0], ticks=[0, 1, 2], orientation='vertical', pad=0.01, aspect=30)\n",
    "    # cbar.ax.set_yticklabels(['Path', 'Obstacle', 'Found Path'], fontsize=12, fontweight='bold')\n",
    "    # cbar.outline.set_visible(False)\n",
    "\n",
    "    ax.set_xticks([])\n",
    "    ax.set_yticks([])\n",
    "\n",
    "    plt.tight_layout()\n",
    "    plt.show()"
   ],
   "metadata": {
    "collapsed": false,
    "ExecuteTime": {
     "end_time": "2023-10-11T11:20:14.312410516Z",
     "start_time": "2023-10-11T11:20:14.303306490Z"
    }
   },
   "id": "340221e32911d54"
  },
  {
   "cell_type": "code",
   "execution_count": 48,
   "outputs": [],
   "source": [
    "# 测试数据\n",
    "maze = [\n",
    "    [0, 0, 0, 1, 0, 0, 0, 0, 0, 0],\n",
    "    [0, 0, 0, 1, 0, 0, 0, 0, 0, 0],\n",
    "    [0, 0, 0, 1, 0, 0, 0, 0, 0, 0],\n",
    "    [0, 0, 0, 1, 0, 0, 1, 0, 0, 0],\n",
    "    [0, 0, 0, 1, 0, 0, 1, 0, 0, 0],\n",
    "    [0, 0, 0, 0, 0, 0, 1, 0, 0, 0],\n",
    "    [0, 0, 0, 0, 0, 0, 1, 0, 1, 0],\n",
    "    [1, 1, 1, 1, 1, 1, 1, 0, 1, 0],\n",
    "    [0, 0, 0, 0, 0, 0, 1, 1, 1, 0],\n",
    "    [0, 0, 0, 0, 0, 0, 0, 0, 0, 0],\n",
    "]\n",
    "start, end = (0, 0), (9, 9)"
   ],
   "metadata": {
    "collapsed": false,
    "ExecuteTime": {
     "end_time": "2023-10-11T11:20:14.599714109Z",
     "start_time": "2023-10-11T11:20:14.594640215Z"
    }
   },
   "id": "825789731f8f6322"
  },
  {
   "cell_type": "code",
   "execution_count": 49,
   "outputs": [],
   "source": [
    "# 找到路径\n",
    "path = astar_search(maze, start, end)"
   ],
   "metadata": {
    "collapsed": false,
    "ExecuteTime": {
     "end_time": "2023-10-11T11:20:14.871468840Z",
     "start_time": "2023-10-11T11:20:14.846547964Z"
    }
   },
   "id": "1cf5366fc61351ea"
  },
  {
   "cell_type": "code",
   "execution_count": 50,
   "outputs": [
    {
     "data": {
      "text/plain": "[(0, 0),\n (1, 0),\n (2, 1),\n (3, 1),\n (4, 2),\n (5, 3),\n (4, 4),\n (3, 5),\n (2, 6),\n (3, 7),\n (4, 8),\n (5, 8),\n (6, 9),\n (7, 9),\n (8, 9),\n (9, 9)]"
     },
     "execution_count": 50,
     "metadata": {},
     "output_type": "execute_result"
    }
   ],
   "source": [
    "path"
   ],
   "metadata": {
    "collapsed": false,
    "ExecuteTime": {
     "end_time": "2023-10-11T11:20:15.121770682Z",
     "start_time": "2023-10-11T11:20:15.117428179Z"
    }
   },
   "id": "e824c5576d1bfd47"
  },
  {
   "cell_type": "code",
   "execution_count": 51,
   "outputs": [
    {
     "data": {
      "text/plain": "<Figure size 800x800 with 1 Axes>",
      "image/png": "[encoded data removed]"
     },
     "metadata": {},
     "output_type": "display_data"
    }
   ],
   "source": [
    "# 画出迷宫和路径\n",
    "draw_maze_and_path(maze, path, start, end)"
   ],
   "metadata": {
    "collapsed": false,
    "ExecuteTime": {
     "end_time": "2023-10-11T11:20:15.501159907Z",
     "start_time": "2023-10-11T11:20:15.417834048Z"
    }
   },
   "id": "54cac8c6f71d0b90"
  },
  {
   "cell_type": "code",
   "execution_count": null,
   "outputs": [],
   "source": [],
   "metadata": {
    "collapsed": false
   },
   "id": "4d45d1de0cc063f7"
  }
 ],
 "metadata": {
  "kernelspec": {
   "display_name": "Python 3",
   "language": "python",
   "name": "python3"
  },
  "language_info": {
   "codemirror_mode": {
    "name": "ipython",
    "version": 2
   },
   "file_extension": ".py",
   "mimetype": "text/x-python",
   "name": "python",
   "nbconvert_exporter": "python",
   "pygments_lexer": "ipython2",
   "version": "2.7.6"
  }
 },
 "nbformat": 4,
 "nbformat_minor": 5
}
